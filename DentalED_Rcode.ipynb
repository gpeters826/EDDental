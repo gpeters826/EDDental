{
 "cells": [
  {
   "cell_type": "markdown",
   "metadata": {},
   "source": [
    "# Dental ED code\n",
    "\n",
    "This notebook describes the different steps followed in the analysis of the dental ED data. \n",
    "It contains:\n",
    "- data loading\n",
    "- building the dataset\n",
    "- exclusion criteria\n",
    "- data variables transformation: continuous to ordinal variables\n",
    "- computation of descriptive statistics\n",
    "- ICC to evaluate the need for multlevel model\n",
    "- logistic regression analysis"
   ]
  },
  {
   "cell_type": "markdown",
   "metadata": {},
   "source": [
    "### Library installation"
   ]
  },
  {
   "cell_type": "code",
   "execution_count": null,
   "metadata": {
    "collapsed": true
   },
   "outputs": [],
   "source": [
    "install.packages(\"readstata13\")\n",
    "install.packages(\"lme4\")\n",
    "library(readstata13)\n",
    "library(lme4)"
   ]
  },
  {
   "cell_type": "markdown",
   "metadata": {},
   "source": [
    "### Load data\n",
    "Our input data set extract from SQL is a data frame that contain for each patient and visit the following information:\n",
    "\n",
    "    •\tDateServiceStarted\n",
    "    •\tMemberBirthYear\n",
    "    •\tMemberGender\n",
    "    •\tMemberZipCode\n",
    "    •\tCongestiveHeartFailure\n",
    "    •\tCardiacArrhythmias\n",
    "    •\tValvularDisease\n",
    "    •\tPulmonaryCirculationDisorders\n",
    "    •\tPeripheralVascDisorders\n",
    "    •\tHypertensionUncomp\n",
    "    •\tHypertensionComp\n",
    "    •\tParalysis\n",
    "    •\tOtherNeurDisorders\n",
    "    •\tChronicPulmDisease\n",
    "    •\tDiabetesUncomp\n",
    "    •\tDiabetesComp\n",
    "    •\tHypothyroidism\n",
    "    •\tRenalFailure\n",
    "    •\tLiverDisease\n",
    "    •\tPUDNoBleeding\n",
    "    •\tHIVAIDS\n",
    "    •\tLymphoma\n",
    "    •\tMetastaticCancer\n",
    "    •\tSolidTumorNoMet\n",
    "    •\tRACollagenDisease\n",
    "    •\tCoagulopathy\n",
    "    •\tObesity\n",
    "    •\tWeightLoss\n",
    "    •\tFluidElecDisorder\n",
    "    •\tAnemiaBloodLoss\n",
    "    •\tAnemiaDeficiency\n",
    "    •\tAlcoholAbuse\n",
    "    •\tDrugAbuse\n",
    "    •\tPsychoses\n",
    "    •\tDepression\n",
    "    •\tEDuse\n",
    "    •\tadmissions\n",
    "    •\tDentalPrevent\n",
    "    •\tid"
   ]
  },
  {
   "cell_type": "code",
   "execution_count": null,
   "metadata": {
    "collapsed": true
   },
   "outputs": [],
   "source": [
    "data = dbGetQuery(cn,  \" select * from user.dbo.data\") #load data prepared in SQL\n",
    "rucc = read.csv(\"fipsrucc.csv\") #load RUCC score for each county\n",
    "zipc = read.csv(\"zipcounty.csv\") #load conversion table for zip code and fips code\n",
    "dentists = read.dta13(\"NPI.dta\") #load locations of dental practices \n",
    "zipincome = read.csv(\"zipincome.csv\") #load median household incomes by zip code\n",
    "fipspop = read.csv(\"fipspop\") #load population by county\n",
    "eci = read.csv(\"eci.csv\") #load klookup table for ECI scoring"
   ]
  },
  {
   "cell_type": "markdown",
   "metadata": {},
   "source": [
    "**NOTE that all the csv files imporated in the previous section are available to download in the GitHub repository.** \n",
    "\n",
    "### Build dataset"
   ]
  },
  {
   "cell_type": "code",
   "execution_count": null,
   "metadata": {
    "collapsed": true
   },
   "outputs": [],
   "source": [
    "data$outcome = !is.na(data$DateServiceStarted) #if DateServiceStarted is NA, then the patient never visted the ED for a dental complaint during the study period; returns FALSE\n",
    "data$outcome_ = ifelse(data$outcome==T,\"ED Visit\",\"No ED Visit\") #clarify labels for outcome measure\n",
    "exp$outcome_ = factor(exp$outcome_, levels = c(\"No ED Visit\",\"ED Visit\")) #define factor levels to set No ED Visit as reference\n",
    "data$income = zipincome$income[match(data$zip,zipincome$zip)] #match median household income to each record based on zip code\n",
    "data$fips = zipc$fips[match(data$zip,zipc$zip)] #match each patient's zip code from the insurance database with its corresponding fips code\n",
    "data$rucc = rucc$score[match(data$fips,rucc$fips)] #match RUCC scores based on fips code\n",
    "dentists$fips = zipc$fips[match(dentists$zip,zipc$zip)] #match each dentist's practice location zip code with its corresponding fips code\n",
    "dentisttable = data.frame(table(dentists$fips)) #create table with nunber of dentists in each county\n",
    "colnames(dentisttable) = c(\"fips\",\"freq\") #rename columns\n",
    "dentisttable$pop = fipspop$pop[match(dentisttable$fips,fipspop$fips)] #match county population based on fips code\n",
    "dentisttable$density = round((dentisttable$freq/dentisttable$pop)*100000,1) #calculate number of dentists in each county per 100,000 population\n",
    "data$dentists = dentisttable$density[match(data$fips,dentisttable$fips)] #match dentists density by county\n",
    "for (t in 5:35){data[,t] = data[,t] * eci[(t-4),2]} #given that columns 5:35 list a 0 or 1 for each comborbidity from the insurance dataset, the following for loop will return a 0 or the proper factor for each condition since the eci table is listed in the same order, transposed starting in row 1 \n",
    "data$eci = rowSums(data[,5:35]) #add the total of all factors to calculate the eci score for each patient\n",
    "data$age = 2015 - data$MemberBirthYear #calculate age in years as of the starting point of the study period"
   ]
  },
  {
   "cell_type": "markdown",
   "metadata": {},
   "source": [
    "### Exclusion criteria\n",
    "- Missing age and/or gender\n",
    "- Patients age under 18 years old\n",
    "- Patients with gender unknown (U)"
   ]
  },
  {
   "cell_type": "code",
   "execution_count": null,
   "metadata": {
    "collapsed": true
   },
   "outputs": [],
   "source": [
    "#APPLY EXCLUSION CRITERIA\n",
    "data = data[!is.na(data$age),] #exclude missing age\n",
    "data = data[data$age>17.99999,] #exclude age under 18 years\n",
    "data = data[!is.na(data$MemberGender),] #exclude missing gender\n",
    "data = data[!data$MemberGender==\"U\",] #exclude unknown gender\n",
    "data$gender_ = factor(exp$MemberGender, levels = c(\"F\",\"M\")) #define female as the reference level\n"
   ]
  },
  {
   "cell_type": "markdown",
   "metadata": {},
   "source": [
    "### Transform continuous variables into ordinal variables"
   ]
  },
  {
   "cell_type": "code",
   "execution_count": null,
   "metadata": {
    "collapsed": true
   },
   "outputs": [],
   "source": [
    "data$age_ = ifelse(data$age<34.9999,\"18-34\",ifelse(data$age<49.9999,\"35-49\",ifelse(data$age<64.9999,\"50-64\",\"65+\"))) #bin age\n",
    "data$age_ = factor(data$age_, levels = c(\"18-34\",\"35-49\",\"50-64\",\"65+\")) #set youngest bin as the reference level\n",
    "data$rucc_ = ifelse(is.na(data$rucc_),NA,ifelse(data$rucc_<3.5,\"METRO\",ifelse(data$rucc_<6.5,\"NONMETRO\",\"RURAL\"))) #bin rucc scores as metro, nonmetro, and rural\n",
    "exp$rucc_ = factor(exp$rucc_, levels = c(\"METRO\",\"NONMETRO\",\"RURAL\")) #set the most urban bin as the reference level\n",
    "data$median_income_ = ifelse(data$income<as.numeric(summary(data$income)[2]),\"Q1\",ifelse(data$income<as.numeric(summary(data$income)[3]),\"Q2\",ifelse(data$income<as.numeric(summary(data$income)[5]),\"Q3\",\"Q4\"))) #bin median household income into quartiles\n",
    "data$median_income_ = factor(data$median_income_, levels = c(\"Q1\",\"Q2\",\"Q3\",\"Q4\")) #set the lowest income bin as the reference level\n",
    "data$dentist_density_ = ifelse(data$dentists<as.numeric(summary(data$dentists)[2]),\"Q1\",ifelse(data$dentists<as.numeric(summary(data$dentists)[3]),\"Q2\",ifelse(data$dentists<as.numeric(summary(data$dentists)[5]),\"Q3\",\"Q4\"))) #bin dentist density into quartiles\n",
    "data$dentist_density_ = factor(data$dentist_density_, levels = c(\"Q1\",\"Q2\",\"Q3\",\"Q4\")) #set the fewest dentists per population bin as the reference level\n",
    "data$dental_care_ = ifelse(data$DentalPrevent==0,\"0\",ifelse(data$DentalPrevent<3.5,\"1-3\",ifelse(data$DentalPrevent<6.5,\"4-6\",\"7+\"))) #bin by number of dental care visits\n",
    "data$dental_care_ = factor(data$dental_care_, levels = c(\"0\",\"1-3\",\"4-6\",\"7+\")) #set zero dental care visits as the reference level\n",
    "data$hospital_admissions_ = ifelse(is.na(data$admissions),\"0\",\"1+\") #binary variable for whether the patient had a hospital admission recorded during the study period\n",
    "data$hospital_admissions_ = factor(data$hospital_admissions_, levels = c(\"0\",\"1+\")) #set zero hospital admissions as the reference level\n",
    "data$ECI_ = ifelse(data$eci<10,\"ECI<10\",\"ECI 10+\") #divide eci score into two catagories with 10 as the cutoff \n",
    "data$ECI_ = factor(data$ECI_,levels=c(\"ECI<10\",\"ECI 10+\")) #set the lowest comorbidity burden as the reference level"
   ]
  },
  {
   "cell_type": "markdown",
   "metadata": {},
   "source": [
    "### Descriptive statistics"
   ]
  },
  {
   "cell_type": "code",
   "execution_count": null,
   "metadata": {
    "collapsed": true
   },
   "outputs": [],
   "source": [
    "datatrunc = select(data,outcome_,age_,gender_,rucc_,median_income_,dentist_density_,dental_care_,hospital_admissions_,ECI_) #create a truncated version of the dataset with only the variables used in the logistic regression \n",
    "#the following function, tmaker, creates a table with frequency and percent of each factor level by whether an ED visit was recorded\n",
    "tmaker = function(x,y) {\n",
    "  t = data.frame(cbind(table(x,y),table(x,y)/rowSums(table(x,y)),rowSums(table(x,y)),rowSums(table(x,y))/sum(rowSums(table(x,y)))))\n",
    "  ct = cbind.data.frame(data.frame(row.names(t),paste0(t[,1],\" (\",round(t[,3]*100,1),\"%)\")),data.frame(paste0(t[,2],\" (\",round(t[,4]*100,1),\"%)\")),data.frame(paste0(t[,5],\" (\",round(t[,6]*100,1),\"%)\")))\n",
    "  colnames(ct) = c(\"Variable\",\"No ED Visit\",\"ED Visit\",\"Total\")\n",
    "  return(ct)\n",
    "}\n",
    "#the following lines of code apply the tmaker function to each variable in the analysis \n",
    "a = tmaker(datatrunc[,2],datatrunc$outcome_) \n",
    "b = tmaker(datatrunc[,3],datatrunc$outcome_)\n",
    "c = tmaker(datatrunc[,4],datatrunc$outcome_)\n",
    "d = tmaker(datatrunc[,5],datatrunc$outcome_)\n",
    "e = tmaker(datatrunc[,6],datatrunc$outcome_)\n",
    "f = tmaker(datatrunc[,7],datatrunc$outcome_)\n",
    "g = tmaker(datatrunc[,8],datatrunc$outcome_)\n",
    "h = tmaker(datatrunc[,9],datatrunc$outcome_)\n",
    "desctable = rbind.data.frame(a,b,c,d,e,f,g,h) #combines all tables for each variable into one table\n",
    "write.csv(aetnatable,\"/Users/gregpeters/OneDrive - Harvard University/EM/EM_Manuscripts/Dental_ED/aetna_dental_table-may27.csv\") #save descriptive statistics \n",
    "paste0(table(data$outcome_),\" (\",round(table(data$outcome_)/sum(table(data$outcome_))*100,1),\"%)\") #returns the number of patients and percent in each group\n",
    "#the following lines of code return the number of missing records and percent for each variable by group\n",
    "paste0(table(!is.na(data[data$outcome==TRUE,2])),\" (\",round(table(!is.na(data[data$outcome==TRUE,2]))/sum(table(!is.na(data[data$outcome==TRUE,2])))*100,1),\"%)\")\n",
    "paste0(table(!is.na(data[data$outcome==TRUE,3])),\" (\",round(table(!is.na(data[data$outcome==TRUE,3]))/sum(table(!is.na(data[data$outcome==TRUE,3])))*100,1),\"%)\")\n",
    "paste0(table(!is.na(data[data$outcome==TRUE,4])),\" (\",round(table(!is.na(data[data$outcome==TRUE,4]))/sum(table(!is.na(data[data$outcome==TRUE,4])))*100,1),\"%)\")\n",
    "paste0(table(!is.na(data[data$outcome==TRUE,5])),\" (\",round(table(!is.na(data[data$outcome==TRUE,5]))/sum(table(!is.na(data[data$outcome==TRUE,5])))*100,1),\"%)\")\n",
    "paste0(table(!is.na(data[data$outcome==TRUE,6])),\" (\",round(table(!is.na(data[data$outcome==TRUE,6]))/sum(table(!is.na(data[data$outcome==TRUE,6])))*100,1),\"%)\")\n",
    "paste0(table(!is.na(data[data$outcome==TRUE,7])),\" (\",round(table(!is.na(data[data$outcome==TRUE,7]))/sum(table(!is.na(data[data$outcome==TRUE,7])))*100,1),\"%)\")\n",
    "paste0(table(!is.na(data[data$outcome==TRUE,8])),\" (\",round(table(!is.na(data[data$outcome==TRUE,8]))/sum(table(!is.na(data[data$outcome==TRUE,8])))*100,1),\"%)\")\n",
    "paste0(table(!is.na(data[data$outcome==TRUE,9])),\" (\",round(table(!is.na(data[data$outcome==TRUE,9]))/sum(table(!is.na(data[data$outcome==TRUE,9])))*100,1),\"%)\")\n",
    "paste0(table(!is.na(data[data$outcome==FALSE,2])),\" (\",round(table(!is.na(data[data$outcome==FALSE,2]))/sum(table(!is.na(data[data$outcome==FALSE,2])))*100,1),\"%)\")\n",
    "paste0(table(!is.na(data[data$outcome==FALSE,3])),\" (\",round(table(!is.na(data[data$outcome==FALSE,3]))/sum(table(!is.na(data[data$outcome==FALSE,3])))*100,1),\"%)\")\n",
    "paste0(table(!is.na(data[data$outcome==FALSE,4])),\" (\",round(table(!is.na(data[data$outcome==FALSE,4]))/sum(table(!is.na(data[data$outcome==FALSE,4])))*100,1),\"%)\")\n",
    "paste0(table(!is.na(data[data$outcome==FALSE,5])),\" (\",round(table(!is.na(data[data$outcome==FALSE,5]))/sum(table(!is.na(data[data$outcome==FALSE,5])))*100,1),\"%)\")\n",
    "paste0(table(!is.na(data[data$outcome==FALSE,6])),\" (\",round(table(!is.na(data[data$outcome==FALSE,6]))/sum(table(!is.na(data[data$outcome==FALSE,6])))*100,1),\"%)\")\n",
    "paste0(table(!is.na(data[data$outcome==FALSE,7])),\" (\",round(table(!is.na(data[data$outcome==FALSE,7]))/sum(table(!is.na(data[data$outcome==FALSE,7])))*100,1),\"%)\")\n",
    "paste0(table(!is.na(data[data$outcome==FALSE,8])),\" (\",round(table(!is.na(data[data$outcome==FALSE,8]))/sum(table(!is.na(data[data$outcome==FALSE,8])))*100,1),\"%)\")\n",
    "paste0(table(!is.na(data[data$outcome==FALSE,9])),\" (\",round(table(!is.na(data[data$outcome==FALSE,9]))/sum(table(!is.na(data[data$outcome==FALSE,9])))*100,1),\"%)\")\n",
    "#the following lines of code return the mean and SD for eci score in each group\n",
    "mean(data$eci[data$outcome==TRUE])\n",
    "sd(data$eci[data$outcome==TRUE])\n",
    "mean(data$eci[data$outcome==FALSE])\n",
    "sd(data$eci[data$outcome==FALSE])\n",
    "#the following lines of code return the mean and SD for dentist density in each group\n",
    "mean(data$dentists[data$outcome==TRUE],na.rm = T)\n",
    "sd(data$dentists[data$outcome==TRUE],na.rm = T)\n",
    "mean(data$dentists[data$outcome==FALSE],na.rm = T)\n",
    "sd(data$dentists[data$outcome==FALSE],na.rm = T)\n",
    "#the following lines of code return the mean and SD for median household income in each group\n",
    "mean(data$income[data$outcome==TRUE],na.rm = T)\n",
    "sd(data$income[data$outcome==TRUE],na.rm = T)\n",
    "mean(data$income[data$outcome==FALSE],na.rm = T)\n",
    "sd(data$income[data$outcome==FALSE],na.rm = T)"
   ]
  },
  {
   "cell_type": "markdown",
   "metadata": {},
   "source": [
    "### ICC to evaluate the need for multilevel model"
   ]
  },
  {
   "cell_type": "code",
   "execution_count": null,
   "metadata": {
    "collapsed": true
   },
   "outputs": [],
   "source": [
    "fipsincome = read.csv(\"zipincome.csv\") #load median household incomes by fips code\n",
    "data$countyincome = fipsincome$income[match(data$fips,fipsincome$fips)] #match county-level income to simplify model at two levels: individuals and counties (no zip codes)\n",
    "emptymod = glmer(outcome_ ~ ( 1 | fips), data=data, family =\"binomial\") #build empty model clustered by county\n",
    "emptymod@theta[1]^2/ (emptymod@theta[1]^2 + (3.14159^2/3)) #run the ICC analysis: given the result was 0.088 < 0.1, will run one-level multivariable logistic regression analysis"
   ]
  },
  {
   "cell_type": "markdown",
   "metadata": {},
   "source": [
    "### Logistic regression analysis"
   ]
  },
  {
   "cell_type": "code",
   "execution_count": null,
   "metadata": {
    "collapsed": true
   },
   "outputs": [],
   "source": [
    "mod = glm(outcome_~age_+gender_+rucc_+median_income_+dentist_density_+dental_care_+hospital_admissions_+ECI_,data=data,family=\"binomial\") #run the logistic regression model\n",
    "a = summary(go) #save output from model\n",
    "b = data.frame(a$coefficients) #save coefficients \n",
    "c = data.frame(exp(mod$coefficients)) #save odds ratios\n",
    "d = data.frame(exp(confint(mod))) #save 95% CI for odds ratios\n",
    "dentalresults= data.frame(cbind(b,c,d)) #save results in one data frame\n",
    "colnames(dentalresults) = c(\"Estimate\",\"Standard Error\",\"Z-Value\",\"P-Value\",\"Odds Ratio\",\"Confidence Inerval: 2.5\",\"Confidence Interval: 97.5\") #rename columns for results data frame\n",
    "write.csv(dentalresults,\"dentalresults.csv\") #save results table"
   ]
  },
  {
   "cell_type": "code",
   "execution_count": null,
   "metadata": {
    "collapsed": true
   },
   "outputs": [],
   "source": [
    "sessionInfo()"
   ]
  }
 ],
 "metadata": {
  "kernelspec": {
   "display_name": "R",
   "language": "R",
   "name": "ir"
  },
  "language_info": {
   "codemirror_mode": "r",
   "file_extension": ".r",
   "mimetype": "text/x-r-source",
   "name": "R",
   "pygments_lexer": "r",
   "version": "3.3.1"
  }
 },
 "nbformat": 4,
 "nbformat_minor": 1
}
